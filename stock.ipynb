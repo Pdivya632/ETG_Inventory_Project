{
 "cells": [
  {
   "cell_type": "markdown",
   "id": "40fcbd9f",
   "metadata": {},
   "source": [
    "# Read Data From JSon"
   ]
  },
  {
   "cell_type": "code",
   "execution_count": 80,
   "id": "6046b806",
   "metadata": {},
   "outputs": [],
   "source": [
    "import json"
   ]
  },
  {
   "cell_type": "code",
   "execution_count": 81,
   "id": "db94cf9a",
   "metadata": {},
   "outputs": [],
   "source": [
    "js = json.dumps(stock)\n",
    "fd = open(\"stock.json\",'w')\n",
    "fd.write(js)\n",
    "fd.close()\n",
    "\n",
    "\n",
    "fd = open('stock.json','r')\n",
    "st=fd.read()\n",
    "fd.close()\n",
    "stock=json.loads(st)\n"
   ]
  },
  {
   "cell_type": "code",
   "execution_count": 82,
   "id": "cce579ad",
   "metadata": {},
   "outputs": [
    {
     "name": "stdout",
     "output_type": "stream",
     "text": [
      "welcome to our store\n",
      "view my cart (yes):yes\n",
      "********\n",
      "~~~~~INVENTORY MANAGEMENT~~~~~~\n",
      "********\n",
      "sr\t\tProduct\t\t\t\t\t\t\t Cost\t Quantity\t\t\t\n",
      "\n",
      "1 \t\t Milk Bottle(100ml) \t\t\t\t\t 25 \t 100\n",
      "2 \t\t Butter Pack(100gms) \t\t\t\t\t 50 \t 200\n",
      "3 \t\t Sour Cream(50gms) \t\t\t\t\t 30 \t 100\n",
      "4 \t\t Creamer Pack(50gm) \t\t\t\t\t 80 \t 100\n",
      "5 \t\t Cream Cheese Pack \t\t\t\t\t 100 \t 103\n",
      "6 \t\t Yougurt (100ml) \t\t\t\t\t 150 \t 100\n",
      "7 \t\t Sugar Packet(1Kg) \t\t\t\t\t 100 \t 100\n",
      "8 \t\t Flour Packet(1Kg) \t\t\t\t\t 90 \t 100\n",
      "9 \t\t Pancake Mix (1Kg) \t\t\t\t\t 70 \t 70\n",
      "10 \t\t peanut Butter(100ml) \t\t\t\t\t 90 \t 100\n",
      "11 \t\t Honey Bottle(100ml) \t\t\t\t\t 90 \t 100\n",
      "12 \t\t Ketchup Pouche \t\t\t\t\t 50 \t 100\n",
      "13 \t\t Mustard Pouche \t\t\t\t\t 60 \t 100\n",
      "14 \t\t Mayo Pouche(50gm) \t\t\t\t\t 70 \t 100\n",
      "15 \t\t Salsa Pouche(50gm) \t\t\t\t\t 80 \t 100\n",
      "16 \t\t Salt Packet(1Kg) \t\t\t\t\t 55 \t 100\n",
      "17 \t\t Pepper Packet(50gm) \t\t\t\t\t 35 \t 100\n",
      "18 \t\t Taco Seasoning \t\t\t\t\t 15 \t 100\n",
      "19 \t\t Soup Packet (5) \t\t\t\t\t 10 \t 100\n",
      "20 \t\t Broth Packet(5) \t\t\t\t\t 30 \t 100\n",
      "21 \t\t Spaghetti Packet \t\t\t\t\t 40 \t 100\n",
      "22 \t\t Macroni Pcaket \t\t\t\t\t 25 \t 100\n",
      "23 \t\t Rice Packet (1kg) \t\t\t\t\t 150 \t 100\n",
      "24 \t\t Water Bottle(100ml) \t\t\t\t\t 45 \t 103\n",
      "25 \t\t Mango juice (100ml) \t\t\t\t\t 30 \t 100\n",
      "26 \t\t Soda Can (50ml) \t\t\t\t\t 20 \t 100\n",
      "27 \t\t Coffee bottle(100ml) \t\t\t\t\t 75 \t 100\n",
      "28 \t\t Tea Packet (100gms) \t\t\t\t\t 45 \t 100\n",
      "29 \t\t Tuna Fish (100gms) \t\t\t\t\t 165 \t 100\n",
      "30 \t\t Beer Can(50ml) \t\t\t\t\t 95 \t 100\n",
      "31 \t\t Oil Bottle (1ltr) \t\t\t\t\t 199 \t 100\n",
      "32 \t\t VinegarS (100ml) \t\t\t\t\t 69 \t 100\n",
      "33 \t\t Soy Sauce (100ml) \t\t\t\t\t 85 \t 100\n",
      "34 \t\t Maple Syrup (50ml) \t\t\t\t\t 65 \t 71\n",
      "35 \t\t Dog Food (500mg) \t\t\t\t\t 165 \t 100\n",
      "36 \t\t Cat Food (500mg) \t\t\t\t\t 120 \t 100\n",
      "37 \t\t Chips Packet(2) \t\t\t\t\t 15 \t 100\n",
      "38 \t\t Sour Candy (100gms) \t\t\t\t\t 79 \t 100\n",
      "39 \t\t Bacon (100gms) \t\t\t\t\t 299 \t 100\n",
      "41 \t\t Maza Bottle \t\t\t\t\t 20 \t 283\n",
      "42 \t\t Jeera (50gms) \t\t\t\t\t 30 \t 29\n",
      "43 \t\t Cloves(50gm) \t\t\t\t\t 47 \t 311\n",
      "44 \t\t Food colur \t\t\t\t\t 20 \t 231\n"
     ]
    }
   ],
   "source": [
    "print(\"welcome to our store\")\n",
    "view=input(\"view my cart (yes):\")\n",
    "print(\"********\")\n",
    "print(\"~~~~~INVENTORY MANAGEMENT~~~~~~\")\n",
    "print(\"********\")\n",
    "        \n",
    "        \n",
    "\n",
    "print(\"sr\\t\\tProduct\\t\\t\\t\\t\\t\\t\\t Cost\\t Quantity\\t\\t\\t\")\n",
    "print(\"\")\n",
    "for i in stock:\n",
    "    print(stock[i]['sr'],\"\\t\\t\", \n",
    "          stock[i]['Name'],\"\\t\\t\\t\\t\\t\",\n",
    "          stock[i]['Cost'],\"\\t\",\n",
    "          stock[i]['quantity'])"
   ]
  },
  {
   "cell_type": "markdown",
   "id": "b641775d",
   "metadata": {},
   "source": [
    "# Inserting New Product Details "
   ]
  },
  {
   "cell_type": "code",
   "execution_count": 85,
   "id": "7c896d31",
   "metadata": {},
   "outputs": [
    {
     "name": "stdout",
     "output_type": "stream",
     "text": [
      "Enter how many products you want to add:5\n",
      " \n",
      "Enter product ID :100045\n",
      "Enter the sr of Product: 45\n",
      "Enter the name of Product: Parle-G\n",
      "Enter cost of the product: 25\n",
      "Enter Mfg of product: 09/2020\n",
      "Enter Exp of product: 12/2021\n",
      "Enter quantity of product:234\n",
      " \n",
      "Enter product ID :100046\n",
      "Enter the sr of Product: 46\n",
      "Enter the name of Product: Marigold pck\n",
      "Enter cost of the product: 30\n",
      "Enter Mfg of product: 07/2020\n",
      "Enter Exp of product: 12/2021\n",
      "Enter quantity of product:677\n",
      " \n",
      "Enter product ID :100047\n",
      "Enter the sr of Product: 47\n",
      "Enter the name of Product: Frozen tikki\n",
      "Enter cost of the product: 345\n",
      "Enter Mfg of product: 09/2020\n",
      "Enter Exp of product: 12/2021\n",
      "Enter quantity of product:456\n",
      " \n",
      "Enter product ID :100048\n",
      "Enter the sr of Product: 48\n",
      "Enter the name of Product: Mushroom\n",
      "Enter cost of the product: 199\n",
      "Enter Mfg of product: 09/2020\n",
      "Enter Exp of product: 12/2022\n",
      "Enter quantity of product:289\n",
      " \n",
      "Enter product ID :100049\n",
      "Enter the sr of Product: 49\n",
      "Enter the name of Product: Paneer pck\n",
      "Enter cost of the product: 190\n",
      "Enter Mfg of product: 05/2020\n",
      "Enter Exp of product: 12/2021\n",
      "Enter quantity of product:234\n",
      " \n"
     ]
    }
   ],
   "source": [
    "x =int(input(\"Enter how many products you want to add:\"))\n",
    "print(\" \")\n",
    "for i in range (x):\n",
    " prod_id=str(input('Enter product ID :'))\n",
    " sr=str(input(\"Enter the sr of Product: \"))\n",
    " name=str(input(\"Enter the name of Product: \"))\n",
    " cst=int(input(\"Enter cost of the product: \"))\n",
    " dt=str(input(\"Enter Mfg of product: \"))\n",
    " dt1=str(input(\"Enter Exp of product: \"))\n",
    " qty=int(input(\"Enter quantity of product:\"))\n",
    " stock[prod_id]={'sr':sr,'Name':name,'Cost':cst,'Date':{'MFg':dt,'Exp':dt1},'quantity':qty}\n",
    " print(\" \")\n",
    " js=json.dumps(stock)\n",
    " fd = open('stock.json','w')\n",
    " fd.write(js)\n",
    " fd.close()"
   ]
  },
  {
   "cell_type": "markdown",
   "id": "46130e2f",
   "metadata": {},
   "source": [
    "# Inventory After adding products"
   ]
  },
  {
   "cell_type": "code",
   "execution_count": 93,
   "id": "f41fe378",
   "metadata": {
    "scrolled": false
   },
   "outputs": [
    {
     "name": "stdout",
     "output_type": "stream",
     "text": [
      "Updated Inventory \n",
      "********\n",
      "~~~~~INVENTORY MANAGEMENT~~~~~~\n",
      "********\n",
      "sr\t\tProduct\t\t\t\t\t\t\t Cost \t Quantity\t\t\t\n",
      "\n",
      "1 \t\t Milk Bottle(100ml) \t\t\t\t\t 25 \t 100\n",
      "2 \t\t Butter Pack(100gms) \t\t\t\t\t 50 \t 200\n",
      "3 \t\t Sour Cream(50gms) \t\t\t\t\t 30 \t 100\n",
      "4 \t\t Creamer Pack(50gm) \t\t\t\t\t 80 \t 100\n",
      "5 \t\t Cream Cheese Pack \t\t\t\t\t 100 \t 103\n",
      "6 \t\t Yougurt (100ml) \t\t\t\t\t 150 \t 100\n",
      "7 \t\t Sugar Packet(1Kg) \t\t\t\t\t 100 \t 100\n",
      "8 \t\t Flour Packet(1Kg) \t\t\t\t\t 90 \t 100\n",
      "9 \t\t Pancake Mix (1Kg) \t\t\t\t\t 70 \t 70\n",
      "10 \t\t peanut Butter(100ml) \t\t\t\t\t 90 \t 100\n",
      "11 \t\t Honey Bottle(100ml) \t\t\t\t\t 90 \t 100\n",
      "12 \t\t Ketchup Pouche \t\t\t\t\t 50 \t 100\n",
      "13 \t\t Mustard Pouche \t\t\t\t\t 60 \t 100\n",
      "14 \t\t Mayo Pouche(50gm) \t\t\t\t\t 70 \t 100\n",
      "15 \t\t Salsa Pouche(50gm) \t\t\t\t\t 80 \t 100\n",
      "16 \t\t Salt Packet(1Kg) \t\t\t\t\t 55 \t 100\n",
      "17 \t\t Pepper Packet(50gm) \t\t\t\t\t 35 \t 100\n",
      "18 \t\t Taco Seasoning \t\t\t\t\t 15 \t 100\n",
      "19 \t\t Soup Packet (5) \t\t\t\t\t 10 \t 100\n",
      "20 \t\t Broth Packet(5) \t\t\t\t\t 30 \t 100\n",
      "21 \t\t Spaghetti Packet \t\t\t\t\t 40 \t 100\n",
      "22 \t\t Macroni Pcaket \t\t\t\t\t 25 \t 100\n",
      "23 \t\t Rice Packet (1kg) \t\t\t\t\t 150 \t 100\n",
      "24 \t\t Water Bottle(100ml) \t\t\t\t\t 45 \t 103\n",
      "25 \t\t Mango juice (100ml) \t\t\t\t\t 30 \t 100\n",
      "26 \t\t Soda Can (50ml) \t\t\t\t\t 20 \t 100\n",
      "27 \t\t Coffee bottle(100ml) \t\t\t\t\t 75 \t 100\n",
      "28 \t\t Tea Packet (100gms) \t\t\t\t\t 45 \t 100\n",
      "29 \t\t Tuna Fish (100gms) \t\t\t\t\t 165 \t 100\n",
      "30 \t\t Beer Can(50ml) \t\t\t\t\t 95 \t 100\n",
      "31 \t\t Oil Bottle (1ltr) \t\t\t\t\t 199 \t 100\n",
      "32 \t\t VinegarS (100ml) \t\t\t\t\t 69 \t 100\n",
      "33 \t\t Soy Sauce (100ml) \t\t\t\t\t 85 \t 100\n",
      "34 \t\t Maple Syrup (50ml) \t\t\t\t\t 65 \t 71\n",
      "35 \t\t Dog Food (500mg) \t\t\t\t\t 165 \t 100\n",
      "36 \t\t Cat Food (500mg) \t\t\t\t\t 120 \t 100\n",
      "37 \t\t Chips Packet(2) \t\t\t\t\t 15 \t 100\n",
      "38 \t\t Sour Candy (100gms) \t\t\t\t\t 79 \t 100\n",
      "39 \t\t Bacon (100gms) \t\t\t\t\t 299 \t 100\n",
      "41 \t\t Maza Bottle(1l) \t\t\t\t\t 20 \t 283\n",
      "42 \t\t Jeera pck(50gms) \t\t\t\t\t 30 \t 29\n",
      "43 \t\t Cloves pck(50gm) \t\t\t\t\t 47 \t 311\n",
      "44 \t\t Food colur(50gm) \t\t\t\t\t 20 \t 231\n",
      "45 \t\t Parle-G (12 pck) \t\t\t\t\t 25 \t 234\n",
      "46 \t\t Marigold(12 pck) \t\t\t\t\t 30 \t 677\n",
      "47 \t\t Frozen tiki(50g) \t\t\t\t\t 345 \t 456\n",
      "48 \t\t Mushroom (100gm) \t\t\t\t\t 199 \t 289\n",
      "49 \t\t Paneer   (100gm) \t\t\t\t\t 190 \t 234\n"
     ]
    }
   ],
   "source": [
    "print(\"Updated Inventory \")\n",
    "print(\"********\")\n",
    "print(\"~~~~~INVENTORY MANAGEMENT~~~~~~\")\n",
    "print(\"********\")\n",
    "        \n",
    "        \n",
    "\n",
    "print(\"sr\\t\\tProduct\\t\\t\\t\\t\\t\\t\\t Cost \\t Quantity\\t\\t\\t\")\n",
    "print(\"\")\n",
    "for i in stock:\n",
    "    print(stock[i]['sr'],\"\\t\\t\", \n",
    "          stock[i]['Name'],\"\\t\\t\\t\\t\\t\",\n",
    "          stock[i]['Cost'],\"\\t\",\n",
    "          stock[i]['quantity'])"
   ]
  },
  {
   "cell_type": "markdown",
   "id": "757e4ba5",
   "metadata": {},
   "source": [
    "# Updating Quantity of products"
   ]
  },
  {
   "cell_type": "code",
   "execution_count": 94,
   "id": "f26f0ebe",
   "metadata": {},
   "outputs": [
    {
     "name": "stdout",
     "output_type": "stream",
     "text": [
      "In how many products you wanna increse quantity ?4\n",
      "Enter product ID:100034\n",
      "Enter the quantity of products u wanna add:34\n",
      "Quantity is added succefully\n",
      "THE QUANTITY AFTER ADDING NEW QUANTITY IS:105\n",
      "\n",
      "Enter product ID:100043\n",
      "Enter the quantity of products u wanna add:12\n",
      "Quantity is added succefully\n",
      "THE QUANTITY AFTER ADDING NEW QUANTITY IS:323\n",
      "\n",
      "Enter product ID:100045\n",
      "Enter the quantity of products u wanna add:34\n",
      "Quantity is added succefully\n",
      "THE QUANTITY AFTER ADDING NEW QUANTITY IS:268\n",
      "\n",
      "Enter product ID:100032\n",
      "Enter the quantity of products u wanna add:2\n",
      "Quantity is added succefully\n",
      "THE QUANTITY AFTER ADDING NEW QUANTITY IS:102\n",
      "\n"
     ]
    }
   ],
   "source": [
    "qt =int(input(\"In how many products you wanna increse quantity ?\"))\n",
    "for i in range(qt):\n",
    " prod_id = str(input(\"Enter product ID:\"))\n",
    " nqt = int(input(\"Enter the quantity of products u wanna add:\"))\n",
    " stock[prod_id]['quantity']= nqt+int(stock[prod_id]['quantity'])\n",
    " print(\"Quantity is added succefully\")\n",
    " print(\"THE QUANTITY AFTER ADDING NEW QUANTITY IS:\"+ str(stock[prod_id]['quantity']))\n",
    " print(\"\")"
   ]
  },
  {
   "cell_type": "markdown",
   "id": "7db5a40a",
   "metadata": {},
   "source": [
    "# updating Product Price"
   ]
  },
  {
   "cell_type": "code",
   "execution_count": 95,
   "id": "df3b221d",
   "metadata": {},
   "outputs": [
    {
     "name": "stdout",
     "output_type": "stream",
     "text": [
      "How many products Cost you wanna Update ?3\n",
      "Enter product ID:100023\n",
      "Enter the price of products u wanna add:2\n",
      "Cost is updated succefully\n",
      "THE Cost AFTER UPDATING IS:150\n",
      "Enter product ID:100009\n",
      "Enter the price of products u wanna add:23\n",
      "Cost is updated succefully\n",
      "THE Cost AFTER UPDATING IS:70\n",
      "Enter product ID:100046\n",
      "Enter the price of products u wanna add:34\n",
      "Cost is updated succefully\n",
      "THE Cost AFTER UPDATING IS:30\n"
     ]
    }
   ],
   "source": [
    "uc =int(input(\"How many products Cost you wanna Update ?\"))\n",
    "for i in range(uc):\n",
    " prod_id = str(input(\"Enter product ID:\"))\n",
    " nuc = int(input(\"Enter the price of products u wanna add:\"))\n",
    " stock[prod_id]['quantity']= nqt+int(stock[prod_id]['Cost'])\n",
    " print(\"Cost is updated succefully\")\n",
    " print(\"THE Cost AFTER UPDATING IS:\"+ str(stock[prod_id]['Cost']))"
   ]
  },
  {
   "cell_type": "markdown",
   "id": "3ca8f53a",
   "metadata": {},
   "source": [
    "# Updated Inventory"
   ]
  },
  {
   "cell_type": "code",
   "execution_count": 96,
   "id": "870d6859",
   "metadata": {},
   "outputs": [
    {
     "name": "stdout",
     "output_type": "stream",
     "text": [
      "Updated Inventory \n",
      "********\n",
      "~~~~~INVENTORY MANAGEMENT~~~~~~\n",
      "********\n",
      "sr\t\tProduct\t\t\t\t\t\t\t Cost \t Quantity\t\t\t\n",
      "\n",
      "1 \t\t Milk Bottle(100ml) \t\t\t\t\t 25 \t 100\n",
      "2 \t\t Butter Pack(100gms) \t\t\t\t\t 50 \t 200\n",
      "3 \t\t Sour Cream(50gms) \t\t\t\t\t 30 \t 100\n",
      "4 \t\t Creamer Pack(50gm) \t\t\t\t\t 80 \t 100\n",
      "5 \t\t Cream Cheese Pack \t\t\t\t\t 100 \t 103\n",
      "6 \t\t Yougurt (100ml) \t\t\t\t\t 150 \t 100\n",
      "7 \t\t Sugar Packet(1Kg) \t\t\t\t\t 100 \t 100\n",
      "8 \t\t Flour Packet(1Kg) \t\t\t\t\t 90 \t 100\n",
      "9 \t\t Pancake Mix (1Kg) \t\t\t\t\t 70 \t 72\n",
      "10 \t\t peanut Butter(100ml) \t\t\t\t\t 90 \t 100\n",
      "11 \t\t Honey Bottle(100ml) \t\t\t\t\t 90 \t 100\n",
      "12 \t\t Ketchup Pouche \t\t\t\t\t 50 \t 100\n",
      "13 \t\t Mustard Pouche \t\t\t\t\t 60 \t 100\n",
      "14 \t\t Mayo Pouche(50gm) \t\t\t\t\t 70 \t 100\n",
      "15 \t\t Salsa Pouche(50gm) \t\t\t\t\t 80 \t 100\n",
      "16 \t\t Salt Packet(1Kg) \t\t\t\t\t 55 \t 100\n",
      "17 \t\t Pepper Packet(50gm) \t\t\t\t\t 35 \t 100\n",
      "18 \t\t Taco Seasoning \t\t\t\t\t 15 \t 100\n",
      "19 \t\t Soup Packet (5) \t\t\t\t\t 10 \t 100\n",
      "20 \t\t Broth Packet(5) \t\t\t\t\t 30 \t 100\n",
      "21 \t\t Spaghetti Packet \t\t\t\t\t 40 \t 100\n",
      "22 \t\t Macroni Pcaket \t\t\t\t\t 25 \t 100\n",
      "23 \t\t Rice Packet (1kg) \t\t\t\t\t 150 \t 152\n",
      "24 \t\t Water Bottle(100ml) \t\t\t\t\t 45 \t 103\n",
      "25 \t\t Mango juice (100ml) \t\t\t\t\t 30 \t 100\n",
      "26 \t\t Soda Can (50ml) \t\t\t\t\t 20 \t 100\n",
      "27 \t\t Coffee bottle(100ml) \t\t\t\t\t 75 \t 100\n",
      "28 \t\t Tea Packet (100gms) \t\t\t\t\t 45 \t 100\n",
      "29 \t\t Tuna Fish (100gms) \t\t\t\t\t 165 \t 100\n",
      "30 \t\t Beer Can(50ml) \t\t\t\t\t 95 \t 100\n",
      "31 \t\t Oil Bottle (1ltr) \t\t\t\t\t 199 \t 100\n",
      "32 \t\t VinegarS (100ml) \t\t\t\t\t 69 \t 102\n",
      "33 \t\t Soy Sauce (100ml) \t\t\t\t\t 85 \t 100\n",
      "34 \t\t Maple Syrup (50ml) \t\t\t\t\t 65 \t 105\n",
      "35 \t\t Dog Food (500mg) \t\t\t\t\t 165 \t 100\n",
      "36 \t\t Cat Food (500mg) \t\t\t\t\t 120 \t 100\n",
      "37 \t\t Chips Packet(2) \t\t\t\t\t 15 \t 100\n",
      "38 \t\t Sour Candy (100gms) \t\t\t\t\t 79 \t 100\n",
      "39 \t\t Bacon (100gms) \t\t\t\t\t 299 \t 100\n",
      "41 \t\t Maza Bottle(1l) \t\t\t\t\t 20 \t 283\n",
      "42 \t\t Jeera pck(50gms) \t\t\t\t\t 30 \t 29\n",
      "43 \t\t Cloves pck(50gm) \t\t\t\t\t 47 \t 323\n",
      "44 \t\t Food colur(50gm) \t\t\t\t\t 20 \t 231\n",
      "45 \t\t Parle-G (12 pck) \t\t\t\t\t 25 \t 268\n",
      "46 \t\t Marigold(12 pck) \t\t\t\t\t 30 \t 32\n",
      "47 \t\t Frozen tiki(50g) \t\t\t\t\t 345 \t 456\n",
      "48 \t\t Mushroom (100gm) \t\t\t\t\t 199 \t 289\n",
      "49 \t\t Paneer   (100gm) \t\t\t\t\t 190 \t 234\n"
     ]
    }
   ],
   "source": [
    "print(\"Updated Inventory \")\n",
    "print(\"********\")\n",
    "print(\"~~~~~INVENTORY MANAGEMENT~~~~~~\")\n",
    "print(\"********\")\n",
    "        \n",
    "        \n",
    "\n",
    "print(\"sr\\t\\tProduct\\t\\t\\t\\t\\t\\t\\t Cost \\t Quantity\\t\\t\\t\")\n",
    "print(\"\")\n",
    "for i in stock:\n",
    "    print(stock[i]['sr'],\"\\t\\t\", \n",
    "          stock[i]['Name'],\"\\t\\t\\t\\t\\t\",\n",
    "          stock[i]['Cost'],\"\\t\",\n",
    "          stock[i]['quantity'])"
   ]
  },
  {
   "cell_type": "markdown",
   "id": "7d1a1db6",
   "metadata": {},
   "source": [
    "# Purchase Of Product"
   ]
  },
  {
   "cell_type": "code",
   "execution_count": 97,
   "id": "96ffa951",
   "metadata": {},
   "outputs": [],
   "source": [
    "import time"
   ]
  },
  {
   "cell_type": "code",
   "execution_count": 98,
   "id": "07ff2a2c",
   "metadata": {
    "scrolled": false
   },
   "outputs": [
    {
     "name": "stdout",
     "output_type": "stream",
     "text": [
      "********************************************\n",
      "           VIDI GROCERY MART    \n",
      "          Mon Sep  6 14:43:58 2021  \n",
      "********************************************\n",
      "\n",
      "          TOTAL BILL    \n",
      "\n",
      "Enter Customer Name :Divya\n",
      "Enter how many products you want to order:4\n",
      " \n",
      "Enter the product ID: 100043\n",
      "Enter the quantity of product: 34\n",
      "Product: Cloves pck(50gm)\n",
      "Serial Number: 43\n",
      "price: 47\n",
      " \n",
      "Amount : 1598\n",
      " \n",
      "Enter the product ID: 100035\n",
      "Enter the quantity of product: 45\n",
      "Product: Dog Food (500mg)\n",
      "Serial Number: 35\n",
      "price: 165\n",
      " \n",
      "Amount : 7425\n",
      " \n",
      "Enter the product ID: 100004\n",
      "Enter the quantity of product: 23\n",
      "Product: Creamer Pack(50gm)\n",
      "Serial Number: 4\n",
      "price: 80\n",
      " \n",
      "Amount : 1840\n",
      " \n",
      "Enter the product ID: 100037\n",
      "Enter the quantity of product: 23\n",
      "Product: Chips Packet(2)\n",
      "Serial Number: 37\n",
      "price: 15\n",
      " \n",
      "Amount : 345\n",
      " \n",
      "*********\n",
      "YOUR DISCOUNT IS :  1344.96\n",
      "YOU HAVE TO PAY  :  9863.04\n",
      "**********\n",
      " \n",
      " \n",
      "***** THANK YOU FOR SHOPPING *****\n"
     ]
    }
   ],
   "source": [
    "print(\"********************************************\")\n",
    "print(\"           VIDI GROCERY MART    \")\n",
    "print( \"         \",time.ctime(),\" \")\n",
    "print(\"********************************************\")\n",
    "print(\"\")\n",
    "print(\"          TOTAL BILL    \")\n",
    "print(\"\")\n",
    "\n",
    "m=0\n",
    "bill={}\n",
    "time=time.ctime()\n",
    "cu_name =str(input(\"Enter Customer Name :\"))\n",
    "n =int(input(\"Enter how many products you want to order:\"))\n",
    "print(\" \")\n",
    "for i in range (n):\n",
    " user_prod=str(input(\"Enter the product ID: \"))\n",
    " user_quant=int(input(\"Enter the quantity of product: \"))\n",
    " print(\"Product:\", stock[user_prod]['Name'])\n",
    " print(\"Serial Number:\", stock[user_prod]['sr'])\n",
    " print(\"price:\",stock[user_prod]['Cost']) \n",
    " print(\" \")\n",
    " print(\"Amount :\",(stock[user_prod]['Cost']*(user_quant)) )\n",
    " m= m+((stock[user_prod]['Cost'])*(user_quant))\n",
    " print(\" \")\n",
    " stock[user_prod]['quantity'] = stock[user_prod]['quantity'] - (int(user_quant))\n",
    " bill[\"Time\"]=time\n",
    " bill['Name']=cu_name\n",
    " bill['Product']=stock[user_prod]['Name']\n",
    " bill['Quantity']=user_quant\n",
    " bill[\"Total Amount\"]=str(m)\n",
    " bill[\"Left in stock\"]=stock[user_prod]['quantity']\n",
    " sales=[]\n",
    " sales.append(bill)\n",
    "\n",
    " \n",
    " \n",
    "    \n",
    "if(m>0):\n",
    "    if m<=5000:\n",
    "        disc = m*0.05\n",
    "    elif m<=15000:\n",
    "        disc=m*0.12\n",
    "    elif m<=25000:\n",
    "        disc=0.2 * m\n",
    "    else:\n",
    "        disc=0.3 * m\n",
    "    \n",
    "    print(\"*********\")\n",
    "    print(\"YOUR DISCOUNT IS : \",disc)\n",
    "    print(\"YOU HAVE TO PAY  : \",m-disc)\n",
    "    print(\"**********\")\n",
    "    bill[\"Discount Amount\"]=str(m-disc)\n",
    "else:\n",
    "    print(\"Invalid Amount\")\n",
    " \n",
    "print(\" \")\n",
    "print(\" \")\n",
    "print(\"***** THANK YOU FOR SHOPPING *****\")\n",
    "\n"
   ]
  },
  {
   "cell_type": "code",
   "execution_count": 99,
   "id": "0b8d8395",
   "metadata": {},
   "outputs": [],
   "source": [
    "js=json.dumps(stock)\n",
    "fd=open(\"stock.json\",'w')\n",
    "fd.write(js)\n",
    "fd.close()"
   ]
  },
  {
   "cell_type": "markdown",
   "id": "ea88769f",
   "metadata": {},
   "source": [
    "# Sales "
   ]
  },
  {
   "cell_type": "code",
   "execution_count": 102,
   "id": "7643491b",
   "metadata": {},
   "outputs": [],
   "source": [
    "js1 = json.dumps(sales)\n",
    "fd1 = open(\"sales.json\",'w')\n",
    "fd1.write(js1)\n",
    "fd1.close()\n",
    "\n",
    "fd1 = open('sales.json','r')\n",
    "sl=fd1.read()\n",
    "fd1.close()\n",
    "sales=json.loads(sl)"
   ]
  },
  {
   "cell_type": "code",
   "execution_count": 103,
   "id": "1a859a3a",
   "metadata": {},
   "outputs": [
    {
     "data": {
      "text/plain": [
       "[{'Time': 'Mon Sep  6 14:43:58 2021',\n",
       "  'Name': 'Divya',\n",
       "  'Product': 'Chips Packet(2)',\n",
       "  'Quantity': 23,\n",
       "  'Total Amount': '11208',\n",
       "  'Left in stock': 77,\n",
       "  'Discount Amount': '9863.04'}]"
      ]
     },
     "execution_count": 103,
     "metadata": {},
     "output_type": "execute_result"
    }
   ],
   "source": [
    "sales"
   ]
  },
  {
   "cell_type": "code",
   "execution_count": null,
   "id": "fe5932a3",
   "metadata": {},
   "outputs": [],
   "source": []
  }
 ],
 "metadata": {
  "kernelspec": {
   "display_name": "Python 3",
   "language": "python",
   "name": "python3"
  },
  "language_info": {
   "codemirror_mode": {
    "name": "ipython",
    "version": 3
   },
   "file_extension": ".py",
   "mimetype": "text/x-python",
   "name": "python",
   "nbconvert_exporter": "python",
   "pygments_lexer": "ipython3",
   "version": "3.8.8"
  }
 },
 "nbformat": 4,
 "nbformat_minor": 5
}
